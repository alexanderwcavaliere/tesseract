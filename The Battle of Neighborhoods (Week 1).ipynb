{
    "cells": [
        {
            "cell_type": "markdown",
            "metadata": {},
            "source": "## Business Problem <a name=\"introduction\"></a>"
        },
        {
            "cell_type": "markdown",
            "metadata": {},
            "source": "This project aims to select the safest borough in London.**Safety** is considered as a top concern when moving to a new place. After this is done the qualities of the safest neighborhoods will be described as to provide the best recommendation. Thus, it is key to understand as to serve this need for those looking to move in or to london. "
        },
        {
            "cell_type": "markdown",
            "metadata": {},
            "source": "## Data <a name=\"data\"></a>\n\nBased on definition of our problem, factors that will influence our decision are:\n* The number of crimes commited\n* The most common ammenities in each of the neighborhood in the safest borough selected.\n\nFollowing data sources will be needed to extract/generate the required information:\n\n* A dataset consisting of the crime statistics of each borough in London obtained from Kaggle  https://www.kaggle.com/jboysen/london-crime\n* More information regarding the boroughs of London is scraped using the Beautifulsoup library  https://en.wikipedia.org/wiki/List_of_London_boroughs\n* Neighborhood will be obtained using **Google Maps API**\n"
        },
        {
            "cell_type": "code",
            "execution_count": null,
            "metadata": {},
            "outputs": [],
            "source": ""
        }
    ],
    "metadata": {
        "kernelspec": {
            "display_name": "Python 3.6",
            "language": "python",
            "name": "python3"
        },
        "language_info": {
            "codemirror_mode": {
                "name": "ipython",
                "version": 3
            },
            "file_extension": ".py",
            "mimetype": "text/x-python",
            "name": "python",
            "nbconvert_exporter": "python",
            "pygments_lexer": "ipython3",
            "version": "3.6.9"
        }
    },
    "nbformat": 4,
    "nbformat_minor": 2
}