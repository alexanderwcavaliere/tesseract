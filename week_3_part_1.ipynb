{
    "cells": [
        {
            "cell_type": "code",
            "execution_count": 1,
            "metadata": {},
            "outputs": [],
            "source": "import requests\nimport lxml.html as lh\nimport pandas as pd"
        },
        {
            "cell_type": "code",
            "execution_count": 2,
            "metadata": {},
            "outputs": [],
            "source": "url='https://en.wikipedia.org/wiki/List_of_postal_codes_of_Canada:_M'\n\n\npage = requests.get(url)\n\ndoc = lh.fromstring(page.content)\n\ntr_elements = doc.xpath('//tr')"
        },
        {
            "cell_type": "code",
            "execution_count": 3,
            "metadata": {},
            "outputs": [
                {
                    "data": {
                        "text/plain": "[3, 3, 3, 3, 3, 3, 3, 3, 3, 3, 3, 3]"
                    },
                    "execution_count": 3,
                    "metadata": {},
                    "output_type": "execute_result"
                }
            ],
            "source": "[len(T) for T in tr_elements[:12]]"
        },
        {
            "cell_type": "code",
            "execution_count": 4,
            "metadata": {},
            "outputs": [
                {
                    "name": "stdout",
                    "output_type": "stream",
                    "text": "1:\"Postcode\"\n2:\"Borough\"\n3:\"Neighbourhood\n\"\n"
                }
            ],
            "source": "tr_elements = doc.xpath('//tr')\n\ncol=[]\ni=0\n\nfor t in tr_elements[0]:\n    i+=1\n    name=t.text_content()\n    print ('%d:\"%s\"'%(i,name))\n    col.append((name,[]))"
        },
        {
            "cell_type": "code",
            "execution_count": 5,
            "metadata": {},
            "outputs": [],
            "source": "for j in range(1,len(tr_elements)):\n    #T is our j'th row\n    T=tr_elements[j]\n    \n    if len(T)!=3:\n        break\n    \n    i=0\n    \n    for t in T.iterchildren():\n        data=t.text_content() \n        if i>0:\n            try:\n                data=int(data)\n            except:\n                pass\n        col[i][1].append(data)\n        i+=1"
        },
        {
            "cell_type": "code",
            "execution_count": 6,
            "metadata": {},
            "outputs": [
                {
                    "data": {
                        "text/plain": "[287, 287, 287]"
                    },
                    "execution_count": 6,
                    "metadata": {},
                    "output_type": "execute_result"
                }
            ],
            "source": "[len(C) for (title,C) in col]"
        },
        {
            "cell_type": "code",
            "execution_count": 7,
            "metadata": {},
            "outputs": [],
            "source": "Dict={title:column for (title,column) in col}\ndf=pd.DataFrame(Dict)"
        },
        {
            "cell_type": "code",
            "execution_count": 21,
            "metadata": {},
            "outputs": [
                {
                    "data": {
                        "text/html": "<div>\n<style scoped>\n    .dataframe tbody tr th:only-of-type {\n        vertical-align: middle;\n    }\n\n    .dataframe tbody tr th {\n        vertical-align: top;\n    }\n\n    .dataframe thead th {\n        text-align: right;\n    }\n</style>\n<table border=\"1\" class=\"dataframe\">\n  <thead>\n    <tr style=\"text-align: right;\">\n      <th></th>\n      <th>Postcode</th>\n      <th>Borough</th>\n      <th>Neighbourhood</th>\n    </tr>\n  </thead>\n  <tbody>\n    <tr>\n      <th>0</th>\n      <td>Downtown Toronto</td>\n      <td>Adelaide</td>\n      <td>M5H</td>\n    </tr>\n    <tr>\n      <th>1</th>\n      <td>Scarborough</td>\n      <td>Agincourt</td>\n      <td>M1S</td>\n    </tr>\n    <tr>\n      <th>2</th>\n      <td>Scarborough</td>\n      <td>Agincourt North</td>\n      <td>M1V</td>\n    </tr>\n    <tr>\n      <th>3</th>\n      <td>Etobicoke</td>\n      <td>Albion Gardens</td>\n      <td>M9V</td>\n    </tr>\n    <tr>\n      <th>4</th>\n      <td>Etobicoke</td>\n      <td>Alderwood</td>\n      <td>M8W</td>\n    </tr>\n  </tbody>\n</table>\n</div>",
                        "text/plain": "           Postcode           Borough Neighbourhood\n0  Downtown Toronto         Adelaide            M5H\n1       Scarborough        Agincourt            M1S\n2       Scarborough  Agincourt North            M1V\n3         Etobicoke   Albion Gardens            M9V\n4         Etobicoke        Alderwood            M8W"
                    },
                    "execution_count": 21,
                    "metadata": {},
                    "output_type": "execute_result"
                }
            ],
            "source": "df.head()"
        },
        {
            "cell_type": "code",
            "execution_count": 22,
            "metadata": {},
            "outputs": [
                {
                    "data": {
                        "text/html": "<div>\n<style scoped>\n    .dataframe tbody tr th:only-of-type {\n        vertical-align: middle;\n    }\n\n    .dataframe tbody tr th {\n        vertical-align: top;\n    }\n\n    .dataframe thead th {\n        text-align: right;\n    }\n</style>\n<table border=\"1\" class=\"dataframe\">\n  <thead>\n    <tr style=\"text-align: right;\">\n      <th></th>\n      <th>Postcode</th>\n      <th>Borough</th>\n      <th>Neighbourhood</th>\n    </tr>\n  </thead>\n  <tbody>\n    <tr>\n      <th>0</th>\n      <td>M5H</td>\n      <td>Downtown Toronto</td>\n      <td>Adelaide</td>\n    </tr>\n    <tr>\n      <th>1</th>\n      <td>M1S</td>\n      <td>Scarborough</td>\n      <td>Agincourt</td>\n    </tr>\n    <tr>\n      <th>2</th>\n      <td>M1V</td>\n      <td>Scarborough</td>\n      <td>Agincourt North</td>\n    </tr>\n    <tr>\n      <th>3</th>\n      <td>M9V</td>\n      <td>Etobicoke</td>\n      <td>Albion Gardens</td>\n    </tr>\n    <tr>\n      <th>4</th>\n      <td>M8W</td>\n      <td>Etobicoke</td>\n      <td>Alderwood</td>\n    </tr>\n  </tbody>\n</table>\n</div>",
                        "text/plain": "  Postcode           Borough     Neighbourhood\n0      M5H  Downtown Toronto         Adelaide \n1      M1S       Scarborough        Agincourt \n2      M1V       Scarborough  Agincourt North \n3      M9V         Etobicoke   Albion Gardens \n4      M8W         Etobicoke        Alderwood "
                    },
                    "execution_count": 22,
                    "metadata": {},
                    "output_type": "execute_result"
                }
            ],
            "source": "df.columns = ['Borough', 'Neighbourhood','Postcode']\n\ncols = df.columns.tolist()\ncols\n\ncols = cols[-1:] + cols[:-1]\n\ndf = df[cols]\n\ndf.head()"
        },
        {
            "cell_type": "code",
            "execution_count": 23,
            "metadata": {},
            "outputs": [
                {
                    "data": {
                        "text/html": "<div>\n<style scoped>\n    .dataframe tbody tr th:only-of-type {\n        vertical-align: middle;\n    }\n\n    .dataframe tbody tr th {\n        vertical-align: top;\n    }\n\n    .dataframe thead th {\n        text-align: right;\n    }\n</style>\n<table border=\"1\" class=\"dataframe\">\n  <thead>\n    <tr style=\"text-align: right;\">\n      <th></th>\n      <th>Postcode</th>\n      <th>Borough</th>\n      <th>Neighbourhood</th>\n    </tr>\n  </thead>\n  <tbody>\n    <tr>\n      <th>0</th>\n      <td>M5H</td>\n      <td>Downtown Toronto</td>\n      <td>Adelaide</td>\n    </tr>\n    <tr>\n      <th>1</th>\n      <td>M1S</td>\n      <td>Scarborough</td>\n      <td>Agincourt</td>\n    </tr>\n    <tr>\n      <th>2</th>\n      <td>M1V</td>\n      <td>Scarborough</td>\n      <td>Agincourt North</td>\n    </tr>\n    <tr>\n      <th>3</th>\n      <td>M9V</td>\n      <td>Etobicoke</td>\n      <td>Albion Gardens</td>\n    </tr>\n    <tr>\n      <th>4</th>\n      <td>M8W</td>\n      <td>Etobicoke</td>\n      <td>Alderwood</td>\n    </tr>\n  </tbody>\n</table>\n</div>",
                        "text/plain": "  Postcode           Borough     Neighbourhood\n0      M5H  Downtown Toronto         Adelaide \n1      M1S       Scarborough        Agincourt \n2      M1V       Scarborough  Agincourt North \n3      M9V         Etobicoke   Albion Gardens \n4      M8W         Etobicoke        Alderwood "
                    },
                    "execution_count": 23,
                    "metadata": {},
                    "output_type": "execute_result"
                }
            ],
            "source": "df = df.replace('\\n',' ', regex=True)\ndf.head()"
        },
        {
            "cell_type": "code",
            "execution_count": 24,
            "metadata": {},
            "outputs": [
                {
                    "data": {
                        "text/html": "<div>\n<style scoped>\n    .dataframe tbody tr th:only-of-type {\n        vertical-align: middle;\n    }\n\n    .dataframe tbody tr th {\n        vertical-align: top;\n    }\n\n    .dataframe thead th {\n        text-align: right;\n    }\n</style>\n<table border=\"1\" class=\"dataframe\">\n  <thead>\n    <tr style=\"text-align: right;\">\n      <th></th>\n      <th>Postcode</th>\n      <th>Borough</th>\n      <th>Neighbourhood</th>\n    </tr>\n  </thead>\n  <tbody>\n    <tr>\n      <th>0</th>\n      <td>M5H</td>\n      <td>Downtown Toronto</td>\n      <td>Adelaide</td>\n    </tr>\n    <tr>\n      <th>1</th>\n      <td>M1S</td>\n      <td>Scarborough</td>\n      <td>Agincourt</td>\n    </tr>\n    <tr>\n      <th>2</th>\n      <td>M1V</td>\n      <td>Scarborough</td>\n      <td>Agincourt North</td>\n    </tr>\n    <tr>\n      <th>3</th>\n      <td>M9V</td>\n      <td>Etobicoke</td>\n      <td>Albion Gardens</td>\n    </tr>\n    <tr>\n      <th>4</th>\n      <td>M8W</td>\n      <td>Etobicoke</td>\n      <td>Alderwood</td>\n    </tr>\n    <tr>\n      <th>5</th>\n      <td>M3H</td>\n      <td>North York</td>\n      <td>Bathurst Manor</td>\n    </tr>\n    <tr>\n      <th>6</th>\n      <td>M5V</td>\n      <td>Downtown Toronto</td>\n      <td>Bathurst Quay</td>\n    </tr>\n    <tr>\n      <th>7</th>\n      <td>M2K</td>\n      <td>North York</td>\n      <td>Bayview Village</td>\n    </tr>\n    <tr>\n      <th>8</th>\n      <td>M9V</td>\n      <td>Etobicoke</td>\n      <td>Beaumond Heights</td>\n    </tr>\n    <tr>\n      <th>9</th>\n      <td>M5M</td>\n      <td>North York</td>\n      <td>Bedford Park</td>\n    </tr>\n  </tbody>\n</table>\n</div>",
                        "text/plain": "  Postcode           Borough      Neighbourhood\n0      M5H  Downtown Toronto          Adelaide \n1      M1S       Scarborough         Agincourt \n2      M1V       Scarborough   Agincourt North \n3      M9V         Etobicoke    Albion Gardens \n4      M8W         Etobicoke         Alderwood \n5      M3H        North York    Bathurst Manor \n6      M5V  Downtown Toronto     Bathurst Quay \n7      M2K        North York   Bayview Village \n8      M9V         Etobicoke  Beaumond Heights \n9      M5M        North York      Bedford Park "
                    },
                    "execution_count": 24,
                    "metadata": {},
                    "output_type": "execute_result"
                }
            ],
            "source": "df.drop(df.index[df['Borough'] == 'Not assigned'], inplace = True)\n\ndf = df.reset_index(drop=True)\n\ndf.head(10)"
        },
        {
            "cell_type": "code",
            "execution_count": 25,
            "metadata": {},
            "outputs": [
                {
                    "data": {
                        "text/html": "<div>\n<style scoped>\n    .dataframe tbody tr th:only-of-type {\n        vertical-align: middle;\n    }\n\n    .dataframe tbody tr th {\n        vertical-align: top;\n    }\n\n    .dataframe thead th {\n        text-align: right;\n    }\n</style>\n<table border=\"1\" class=\"dataframe\">\n  <thead>\n    <tr style=\"text-align: right;\">\n      <th></th>\n      <th>Postcode</th>\n      <th>Borough</th>\n      <th>Neighbourhood</th>\n    </tr>\n  </thead>\n  <tbody>\n    <tr>\n      <th>0</th>\n      <td>M1A</td>\n      <td>M1A</td>\n      <td>Not assigned</td>\n    </tr>\n    <tr>\n      <th>1</th>\n      <td>M1B</td>\n      <td>Scarborough</td>\n      <td>Malvern ,Rouge</td>\n    </tr>\n    <tr>\n      <th>2</th>\n      <td>M1C</td>\n      <td>Scarborough</td>\n      <td>Highland Creek ,Port Union ,Rouge Hill</td>\n    </tr>\n    <tr>\n      <th>3</th>\n      <td>M1E</td>\n      <td>Scarborough</td>\n      <td>Guildwood ,Morningside ,West Hill</td>\n    </tr>\n    <tr>\n      <th>4</th>\n      <td>M1G</td>\n      <td>Scarborough</td>\n      <td>Woburn</td>\n    </tr>\n    <tr>\n      <th>5</th>\n      <td>M1H</td>\n      <td>Scarborough</td>\n      <td>Cedarbrae</td>\n    </tr>\n    <tr>\n      <th>6</th>\n      <td>M1J</td>\n      <td>Scarborough</td>\n      <td>Scarborough Village</td>\n    </tr>\n    <tr>\n      <th>7</th>\n      <td>M1K</td>\n      <td>Scarborough</td>\n      <td>East Birchmount Park ,Ionview ,Kennedy Park</td>\n    </tr>\n    <tr>\n      <th>8</th>\n      <td>M1L</td>\n      <td>Scarborough</td>\n      <td>Clairlea ,Golden Mile ,Oakridge</td>\n    </tr>\n    <tr>\n      <th>9</th>\n      <td>M1M</td>\n      <td>Scarborough</td>\n      <td>Cliffcrest ,Cliffside ,Scarborough Village West</td>\n    </tr>\n  </tbody>\n</table>\n</div>",
                        "text/plain": "  Postcode      Borough                                     Neighbourhood\n0      M1A          M1A                                     Not assigned \n1      M1B  Scarborough                                   Malvern ,Rouge \n2      M1C  Scarborough           Highland Creek ,Port Union ,Rouge Hill \n3      M1E  Scarborough                Guildwood ,Morningside ,West Hill \n4      M1G  Scarborough                                           Woburn \n5      M1H  Scarborough                                        Cedarbrae \n6      M1J  Scarborough                              Scarborough Village \n7      M1K  Scarborough      East Birchmount Park ,Ionview ,Kennedy Park \n8      M1L  Scarborough                  Clairlea ,Golden Mile ,Oakridge \n9      M1M  Scarborough  Cliffcrest ,Cliffside ,Scarborough Village West "
                    },
                    "execution_count": 25,
                    "metadata": {},
                    "output_type": "execute_result"
                }
            ],
            "source": "df = df.groupby(['Postcode', 'Borough'])['Neighbourhood'].apply(','.join).reset_index()\ndf.columns = ['Postcode','Borough','Neighbourhood']\ndf.head(10)"
        },
        {
            "cell_type": "code",
            "execution_count": 26,
            "metadata": {},
            "outputs": [],
            "source": "df['Neighbourhood'] = df['Neighbourhood'].str.strip()"
        },
        {
            "cell_type": "code",
            "execution_count": 27,
            "metadata": {},
            "outputs": [],
            "source": "df.loc[df['Neighbourhood'] == 'Not assigned', 'Neighbourhood'] = df['Borough']"
        },
        {
            "cell_type": "code",
            "execution_count": 28,
            "metadata": {},
            "outputs": [
                {
                    "data": {
                        "text/html": "<div>\n<style scoped>\n    .dataframe tbody tr th:only-of-type {\n        vertical-align: middle;\n    }\n\n    .dataframe tbody tr th {\n        vertical-align: top;\n    }\n\n    .dataframe thead th {\n        text-align: right;\n    }\n</style>\n<table border=\"1\" class=\"dataframe\">\n  <thead>\n    <tr style=\"text-align: right;\">\n      <th></th>\n      <th>Postcode</th>\n      <th>Borough</th>\n      <th>Neighbourhood</th>\n    </tr>\n  </thead>\n  <tbody>\n    <tr>\n      <th>160</th>\n      <td>M9A</td>\n      <td>Queen's Park</td>\n      <td>Queen's Park</td>\n    </tr>\n  </tbody>\n</table>\n</div>",
                        "text/plain": "    Postcode       Borough Neighbourhood\n160      M9A  Queen's Park  Queen's Park"
                    },
                    "execution_count": 28,
                    "metadata": {},
                    "output_type": "execute_result"
                }
            ],
            "source": "df[df['Borough'] == 'Queen\\'s Park']"
        },
        {
            "cell_type": "code",
            "execution_count": 29,
            "metadata": {},
            "outputs": [
                {
                    "data": {
                        "text/plain": "(180, 3)"
                    },
                    "execution_count": 29,
                    "metadata": {},
                    "output_type": "execute_result"
                }
            ],
            "source": "df.shape"
        },
        {
            "cell_type": "code",
            "execution_count": 30,
            "metadata": {},
            "outputs": [],
            "source": "df.to_csv(r'df_can.csv')"
        },
        {
            "cell_type": "code",
            "execution_count": null,
            "metadata": {},
            "outputs": [],
            "source": ""
        }
    ],
    "metadata": {
        "kernelspec": {
            "display_name": "Python 3.6",
            "language": "python",
            "name": "python3"
        },
        "language_info": {
            "codemirror_mode": {
                "name": "ipython",
                "version": 3
            },
            "file_extension": ".py",
            "mimetype": "text/x-python",
            "name": "python",
            "nbconvert_exporter": "python",
            "pygments_lexer": "ipython3",
            "version": "3.6.9"
        }
    },
    "nbformat": 4,
    "nbformat_minor": 1
}